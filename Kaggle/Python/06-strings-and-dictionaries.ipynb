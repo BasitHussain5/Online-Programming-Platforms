{
 "cells": [
  {
   "cell_type": "markdown",
   "metadata": {},
   "source": [
    "# String-and-dictionaries\n",
    "**This notebook is an exercise in the [Python](https://www.kaggle.com/learn/python) course.  You can reference the tutorial at [this link](https://www.kaggle.com/colinmorris/strings-and-dictionaries).**\n",
    "\n",
    "---\n"
   ]
  },
  {
   "cell_type": "markdown",
   "metadata": {},
   "source": [
    "Let's start with a string lightning round to warm up. What are the lengths of the strings below?\n",
    "\n",
    "For each of the five strings below, predict what `len()` would return when passed that string. Use the variable `length` to record your answer, then run the cell to check whether you were right.  \n",
    "\n",
    "# 0a."
   ]
  },
  {
   "cell_type": "code",
   "execution_count": 1,
   "metadata": {
    "execution": {
     "iopub.execute_input": "2021-09-20T03:37:37.631421Z",
     "iopub.status.busy": "2021-09-20T03:37:37.63109Z",
     "iopub.status.idle": "2021-09-20T03:37:37.642701Z",
     "shell.execute_reply": "2021-09-20T03:37:37.641854Z",
     "shell.execute_reply.started": "2021-09-20T03:37:37.631389Z"
    }
   },
   "outputs": [
    {
     "name": "stdout",
     "output_type": "stream",
     "text": [
      "Correct\n"
     ]
    }
   ],
   "source": [
    "a = \"\"\n",
    "length = 0\n",
    "if len(a)==length:\n",
    "    print('Correct')\n",
    "else:\n",
    "    print(\"Wrong\")"
   ]
  },
  {
   "cell_type": "markdown",
   "metadata": {},
   "source": [
    "# 0b."
   ]
  },
  {
   "cell_type": "code",
   "execution_count": 3,
   "metadata": {
    "execution": {
     "iopub.execute_input": "2021-09-20T03:37:41.611139Z",
     "iopub.status.busy": "2021-09-20T03:37:41.610786Z",
     "iopub.status.idle": "2021-09-20T03:37:41.621864Z",
     "shell.execute_reply": "2021-09-20T03:37:41.620793Z",
     "shell.execute_reply.started": "2021-09-20T03:37:41.611104Z"
    }
   },
   "outputs": [
    {
     "name": "stdout",
     "output_type": "stream",
     "text": [
      "Correct\n"
     ]
    }
   ],
   "source": [
    "b = \"it's ok\"\n",
    "length = 7\n",
    "if len(b)==length:\n",
    "    print('Correct')\n",
    "else:\n",
    "    print(\"Wrong\")"
   ]
  },
  {
   "cell_type": "markdown",
   "metadata": {},
   "source": [
    "# 0c."
   ]
  },
  {
   "cell_type": "code",
   "execution_count": 4,
   "metadata": {
    "execution": {
     "iopub.execute_input": "2021-09-20T03:40:25.863637Z",
     "iopub.status.busy": "2021-09-20T03:40:25.86266Z",
     "iopub.status.idle": "2021-09-20T03:40:25.87409Z",
     "shell.execute_reply": "2021-09-20T03:40:25.873122Z",
     "shell.execute_reply.started": "2021-09-20T03:40:25.863585Z"
    }
   },
   "outputs": [
    {
     "name": "stdout",
     "output_type": "stream",
     "text": [
      "Correct\n"
     ]
    }
   ],
   "source": [
    "c = 'it\\'s ok'\n",
    "length = 7\n",
    "if len(c)==length:\n",
    "    print('Correct')\n",
    "else:\n",
    "    print(\"Wrong\")"
   ]
  },
  {
   "cell_type": "markdown",
   "metadata": {},
   "source": [
    "# 0d."
   ]
  },
  {
   "cell_type": "code",
   "execution_count": null,
   "metadata": {
    "execution": {
     "iopub.execute_input": "2021-09-20T03:37:49.547762Z",
     "iopub.status.busy": "2021-09-20T03:37:49.547412Z",
     "iopub.status.idle": "2021-09-20T03:37:49.55888Z",
     "shell.execute_reply": "2021-09-20T03:37:49.557542Z",
     "shell.execute_reply.started": "2021-09-20T03:37:49.547722Z"
    }
   },
   "outputs": [],
   "source": [
    "d = \"\"\"hey\"\"\"\n",
    "length = 3\n",
    "if len(d)==length:\n",
    "    print('Correct')\n",
    "else:\n",
    "    print(\"Wrong\")"
   ]
  },
  {
   "cell_type": "markdown",
   "metadata": {},
   "source": [
    "# 0e."
   ]
  },
  {
   "cell_type": "code",
   "execution_count": 5,
   "metadata": {
    "execution": {
     "iopub.execute_input": "2021-09-20T03:37:52.861762Z",
     "iopub.status.busy": "2021-09-20T03:37:52.861378Z",
     "iopub.status.idle": "2021-09-20T03:37:52.869968Z",
     "shell.execute_reply": "2021-09-20T03:37:52.869223Z",
     "shell.execute_reply.started": "2021-09-20T03:37:52.861721Z"
    }
   },
   "outputs": [
    {
     "name": "stdout",
     "output_type": "stream",
     "text": [
      "Correct\n"
     ]
    }
   ],
   "source": [
    "e = '\\n'\n",
    "length = 1\n",
    "if len(e)==length:\n",
    "    print('Correct')\n",
    "else:\n",
    "    print(\"Wrong\")"
   ]
  },
  {
   "cell_type": "markdown",
   "metadata": {},
   "source": [
    "# 1.\n",
    "\n",
    "There is a saying that \"Data scientists spend 80% of their time cleaning data, and 20% of their time complaining about cleaning data.\" Let's see if you can write a function to help clean US zip code data. Given a string, it should return whether or not that string represents a valid zip code. For our purposes, a valid zip code is any string consisting of exactly 5 digits.\n",
    "\n",
    "HINT: `str` has a method that will be useful here. Use `help(str)` to review a list of string methods."
   ]
  },
  {
   "cell_type": "code",
   "execution_count": 7,
   "metadata": {
    "execution": {
     "iopub.execute_input": "2021-09-20T03:40:30.981907Z",
     "iopub.status.busy": "2021-09-20T03:40:30.981493Z",
     "iopub.status.idle": "2021-09-20T03:40:30.992215Z",
     "shell.execute_reply": "2021-09-20T03:40:30.991393Z",
     "shell.execute_reply.started": "2021-09-20T03:40:30.981878Z"
    }
   },
   "outputs": [
    {
     "data": {
      "text/plain": [
       "True"
      ]
     },
     "execution_count": 7,
     "metadata": {},
     "output_type": "execute_result"
    }
   ],
   "source": [
    "def is_valid_zip(zip_code):\n",
    "    \"\"\"Returns whether the input string is a valid (5 digit) zip code\n",
    "    \"\"\"\n",
    "    \n",
    "    return len(zip_code)==5 and zip_code.isdigit()\n",
    "    pass\n",
    "\n",
    "is_valid_zip('32455')"
   ]
  },
  {
   "cell_type": "markdown",
   "metadata": {},
   "source": [
    "# 2.\n",
    "\n",
    "A researcher has gathered thousands of news articles. But she wants to focus her attention on articles including a specific word. Complete the function below to help her filter her list of articles.\n",
    "\n",
    "Your function should meet the following criteria:\n",
    "\n",
    "- Do not include documents where the keyword string shows up only as a part of a larger word. For example, if she were looking for the keyword “closed”, you would not include the string “enclosed.” \n",
    "- She does not want you to distinguish upper case from lower case letters. So the phrase “Closed the case.” would be included when the keyword is “closed”\n",
    "- Do not let periods or commas affect what is matched. “It is closed.” would be included when the keyword is “closed”. But you can assume there are no other types of punctuation."
   ]
  },
  {
   "cell_type": "code",
   "execution_count": 11,
   "metadata": {
    "execution": {
     "iopub.execute_input": "2021-09-20T03:58:06.441508Z",
     "iopub.status.busy": "2021-09-20T03:58:06.440961Z",
     "iopub.status.idle": "2021-09-20T03:58:06.453578Z",
     "shell.execute_reply": "2021-09-20T03:58:06.452784Z",
     "shell.execute_reply.started": "2021-09-20T03:58:06.441452Z"
    }
   },
   "outputs": [
    {
     "data": {
      "text/plain": [
       "[0]"
      ]
     },
     "execution_count": 11,
     "metadata": {},
     "output_type": "execute_result"
    }
   ],
   "source": [
    "def word_search(doc_list, keyword):\n",
    "    \"\"\"\n",
    "    Takes a list of documents (each document is a string) and a keyword. \n",
    "    Returns list of the index values into the original list for all documents \n",
    "    containing the keyword.\n",
    "\n",
    "    Example:\n",
    "    doc_list = [\"The Learn Python Challenge Casino.\", \"They bought a car\", \"Casinoville\"]\n",
    "    >>> word_search(doc_list, 'casino')\n",
    "    >>> [0]\n",
    "    \"\"\"\n",
    "    Ls = []\n",
    "    for i, doc in enumerate(doc_list):\n",
    "        for word in doc.replace(',','').replace('.','').split(' '):            \n",
    "            if keyword.lower() == word.lower():\n",
    "                Ls.append(i)\n",
    "                break\n",
    "    return Ls\n",
    "word_search([\"The Learn Python Challenge Casino.\", \"They bought a car\", \"Casinoville\"],'casino')\n"
   ]
  },
  {
   "cell_type": "markdown",
   "metadata": {},
   "source": [
    "# 3.\n",
    "\n",
    "Now the researcher wants to supply multiple keywords to search for. Complete the function below to help her.\n",
    "\n",
    "(You're encouraged to use the `word_search` function you just wrote when implementing this function. Reusing code in this way makes your programs more robust and readable - and it saves typing!)"
   ]
  },
  {
   "cell_type": "code",
   "execution_count": 13,
   "metadata": {
    "execution": {
     "iopub.execute_input": "2021-09-20T04:00:22.036556Z",
     "iopub.status.busy": "2021-09-20T04:00:22.035577Z",
     "iopub.status.idle": "2021-09-20T04:00:22.045951Z",
     "shell.execute_reply": "2021-09-20T04:00:22.044966Z",
     "shell.execute_reply.started": "2021-09-20T04:00:22.036515Z"
    }
   },
   "outputs": [
    {
     "data": {
      "text/plain": [
       "{'casino': [0, 1], 'they': [1]}"
      ]
     },
     "execution_count": 13,
     "metadata": {},
     "output_type": "execute_result"
    }
   ],
   "source": [
    "def multi_word_search(documents, keywords):\n",
    "    \"\"\"\n",
    "    Takes list of documents (each document is a string) and a list of keywords.  \n",
    "    Returns a dictionary where each key is a keyword, and the value is a list of indices\n",
    "    (from doc_list) of the documents containing that keyword\n",
    "\n",
    "    >>> doc_list = [\"The Learn Python Challenge Casino.\", \"They bought a car and a casino\", \"Casinoville\"]\n",
    "    >>> keywords = ['casino', 'they']\n",
    "    >>> multi_word_search(doc_list, keywords)\n",
    "    {'casino': [0, 1], 'they': [1]}\n",
    "    \"\"\"\n",
    "    keyword_to_indices = {}\n",
    "    for keyword in keywords:\n",
    "        keyword_to_indices[keyword] = word_search(documents, keyword)\n",
    "    return keyword_to_indices\n",
    "doc_list = [\"The Learn Python Challenge Casino.\", \"They bought a car and a casino\", \"Casinoville\"]\n",
    "keywords = ['casino', 'they']\n",
    "multi_word_search(doc_list, keywords)\n",
    "\n"
   ]
  },
  {
   "cell_type": "markdown",
   "metadata": {},
   "source": [
    "# Keep Going\n",
    "\n",
    "You've learned a lot. But even the best programmers rely heavily on \"libraries\" of code from other programmers. You'll learn about that in **[the last lesson](https://www.kaggle.com/colinmorris/working-with-external-libraries)**.\n"
   ]
  },
  {
   "cell_type": "markdown",
   "metadata": {},
   "source": [
    "---\n",
    "\n",
    "\n",
    "\n",
    "\n",
    "*Have questions or comments? Visit the [Learn Discussion forum](https://www.kaggle.com/learn-forum/161283) to chat with other Learners.*"
   ]
  }
 ],
 "metadata": {
  "kernelspec": {
   "display_name": "Python 3",
   "language": "python",
   "name": "python3"
  },
  "language_info": {
   "codemirror_mode": {
    "name": "ipython",
    "version": 3
   },
   "file_extension": ".py",
   "mimetype": "text/x-python",
   "name": "python",
   "nbconvert_exporter": "python",
   "pygments_lexer": "ipython3",
   "version": "3.8.8"
  }
 },
 "nbformat": 4,
 "nbformat_minor": 4
}
